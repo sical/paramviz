{
 "cells": [
  {
   "cell_type": "markdown",
   "metadata": {},
   "source": [
    "# Kmeans algorithm "
   ]
  },
  {
   "cell_type": "markdown",
   "metadata": {},
   "source": [
    "In this example we will run a very simple set of configurations to explore the parameter space on three variables: the number of centers (K), the grid size in the x-axis (Nx) and the grid size in the y-axis (Ny). \n",
    "\n",
    "To this end, we load some basic libraries for plotting the output and also to run the algorithm based on python built-in modules: "
   ]
  },
  {
   "cell_type": "code",
   "execution_count": 2,
   "metadata": {
    "collapsed": true
   },
   "outputs": [],
   "source": [
    "%matplotlib inline\n",
    "import matplotlib.pyplot as plt\n",
    "import pandas as pd\n",
    "import numpy as np\n",
    "\n",
    "\n",
    "from KmeansTrace import KmeansTrace\n",
    "from DataGrid import DataGrid"
   ]
  },
  {
   "cell_type": "markdown",
   "metadata": {},
   "source": [
    "We define a function that runs the algorithm on a particular dataset. It also calculates basic diagnostics related to the number of iterations and the inertia (the sum of distances to the nearest cluster center) thanks to the built-in Kmeans algorithm routine. "
   ]
  },
  {
   "cell_type": "code",
   "execution_count": 3,
   "metadata": {
    "collapsed": true
   },
   "outputs": [],
   "source": [
    "def KmeansGrid(Data2D, K, grid):\n",
    "    \n",
    "    listeTraceLabels  = []\n",
    "    listeTraceCenters = []\n",
    "    listeTraceInertia = []\n",
    "    listeTraceNbIter  = []\n",
    "    \n",
    "    for c in grid.get_grille():\n",
    "\n",
    "        aKmeans  = KmeansTrace(Data2D, K, c, grid)\n",
    "        Labels, Centers, Inertia, NbIter = aKmeans.getAll()\n",
    "        listeTraceLabels.append(Labels)  \n",
    "        listeTraceCenters.append(Centers) \n",
    "        listeTraceInertia.append(Inertia) \n",
    "        listeTraceNbIter.append(NbIter) \n",
    "\n",
    "    return listeTraceLabels, listeTraceCenters, listeTraceInertia, listeTraceNbIter"
   ]
  },
  {
   "cell_type": "markdown",
   "metadata": {},
   "source": [
    "We then perform the loop over the set of configurations described above. For this example we have chosen a relatively small number of configurations to compute easily and quickly some exploratory output, where K starts on a value of 3 over a 2 by 2 grid and we then increase the size of the grid. We have also selected the smallest database available of 444 datapoints for speed purposes. We finally store all the output variables in the so-called cargo arrays, each one for a different diagnostic. "
   ]
  },
  {
   "cell_type": "code",
   "execution_count": 13,
   "metadata": {
    "collapsed": false
   },
   "outputs": [],
   "source": [
    "if __name__ == \"__main__\":\n",
    "\n",
    "    import time\n",
    "    start_time = time.time()\n",
    "\n",
    "    hgrams=[]\n",
    "    cargo_iterations=[]\n",
    "    cargo_inertia=[]\n",
    "    cargo_solutions=[]\n",
    "    cargo_config=[]\n",
    "    counter=1\n",
    "    \n",
    "    for l in range(3,5):\n",
    "        for i in range(2,5):\n",
    "            for j in range(2,5):\n",
    "\n",
    "                K = l\n",
    "                nx, ny = i,j\n",
    "            \n",
    "                # Data reading\n",
    "                #filename = './data/UnequalVar.csv'\n",
    "                #filename = './data/Mixture2D.csv'              #----> nbreuses convergences avec K =3 (un peu moins avec K=2)\n",
    "                filename = './data/UnevenlySizedBlobs.csv'      #----> nbreuses convergences avec K =3 (un seule avec K =2)\n",
    "                #filename = './data/AnisotropBlob.csv'\n",
    "                df       = pd.read_csv(filename, sep='\\t', header=None)\n",
    "                Data2D   = df.values\n",
    "            \n",
    "                # All about the digital grid for center init of kmeans\n",
    "                grid = DataGrid(Data2D, nx, ny, K)\n",
    "            \n",
    "                # Kmeans computation with center init on the grid\n",
    "                listeTraceLabels, listeTraceCenters, listeTraceInertia, listeTraceNbIter = KmeansGrid(Data2D, K, grid)\n",
    "                \n",
    "                hgrams.append(np.histogram(listeTraceNbIter, density=True, bins=np.max(listeTraceNbIter)))\n",
    "                \n",
    "                shortInertia=list(set(listeTraceInertia))\n",
    "                shorter=np.round(shortInertia,1)\n",
    "                \n",
    "#                print('Nb iter to reach convergence for each init \\n', listeTraceNbIter)\n",
    "#                #print('Nb iter to reach convergence for each init \\n', listeTraceCenters)\n",
    "#                print('Unique different value of inertia ', shorter)\n",
    "#                print('Solutions',len(list(set(listeTraceInertia))))\n",
    "#                print(\"--- %s seconds ---\" % (time.time() - start_time))\n",
    "#                print(K,nx,ny)\n",
    "                \n",
    "                cargo_iterations.append(listeTraceNbIter)\n",
    "                cargo_inertia.append(shorter)\n",
    "                cargo_solutions.append(len(list(set(listeTraceInertia))))\n",
    "                cargo_config.append(str(l)+str(i)+str(j))\n",
    "                counter=counter+1"
   ]
  },
  {
   "cell_type": "markdown",
   "metadata": {},
   "source": [
    "Once the algorithm is run we can plot the distribution of the data. As mentioned above, this database includes 444 datapoints whose distribution is shown below. It shows intuitively already three groups or clouds of points that the algorithm should sort out. "
   ]
  },
  {
   "cell_type": "code",
   "execution_count": 9,
   "metadata": {
    "collapsed": false,
    "scrolled": true
   },
   "outputs": [
    {
     "data": {
      "text/plain": [
       "[<matplotlib.lines.Line2D at 0x118a74c88>]"
      ]
     },
     "execution_count": 9,
     "metadata": {},
     "output_type": "execute_result"
    },
    {
     "data": {
      "image/png": "[encoded data removed]",
      "text/plain": [
       "<matplotlib.figure.Figure at 0x1188aefd0>"
      ]
     },
     "metadata": {},
     "output_type": "display_data"
    }
   ],
   "source": [
    "marquershape = 'o'\n",
    "marquersize  = 10 \n",
    "plt.figure()\n",
    "plt.plot(Data2D[:,0], Data2D[:, 1], ls='none', marker='o', markersize=2, color=(0.75, 0.75, 0.75))"
   ]
  },
  {
   "cell_type": "markdown",
   "metadata": {},
   "source": [
    "Once the algorithm operates over this dataset, we can describe some of the properties of the output. For each combination of Nx and Ny, the script runs different combinations of K over the grid defined by Nx and Ny. For instance, in the most basic case, where Nx=Ny=2 and K=3, the three centroids can be placed in four different ways within the grid. So the algorithm computes these permutations for each initial configuration. We can take a look a t the total number of individual solutions for each configuration in the following figure: "
   ]
  },
  {
   "cell_type": "code",
   "execution_count": 10,
   "metadata": {
    "collapsed": false,
    "scrolled": false
   },
   "outputs": [
    {
     "data": {
      "text/plain": [
       "[<matplotlib.lines.Line2D at 0x115086f60>]"
      ]
     },
     "execution_count": 10,
     "metadata": {},
     "output_type": "execute_result"
    },
    {
     "data": {
      "image/png": "[encoded data removed]",
      "text/plain": [
       "<matplotlib.figure.Figure at 0x118d85dd8>"
      ]
     },
     "metadata": {},
     "output_type": "display_data"
    }
   ],
   "source": [
    "plt.figure()\n",
    "#plt.set_xticklabels(cargo_config)\n",
    "plt.plot(range(0,len(cargo_iterations)), cargo_solutions, ls='none', marker='o', markersize=2, color=(0.2, 0.2, 0.2))\n",
    "#plt.set_xticks(np.arange(0, len(cargo_iterations), 1.0))"
   ]
  },
  {
   "cell_type": "markdown",
   "metadata": {},
   "source": [
    "Here we can see how the number of solutions, in the y-axis, increases with the grid size, although the grid size is not properly sorted out along the x-axis (please refer to the next notebook for a more precise description of the grid size). Each datapoint refers to a single configuration and the number of solutions associated with it. As we increase the grid, the number of solutions increases along. \n",
    "\n",
    "Now we can take a look at each of these individual solutions, hence the values of the distance (inertia), again for each configuration. The configurations are sorted in the same way the loop operates, i.e., the first half is K=3 and the second half is K=4, with a clear split in the graph: "
   ]
  },
  {
   "cell_type": "code",
   "execution_count": 11,
   "metadata": {
    "collapsed": false
   },
   "outputs": [
    {
     "data": {
      "image/png": "[encoded data removed]",
      "text/plain": [
       "<matplotlib.figure.Figure at 0x118df8b70>"
      ]
     },
     "metadata": {},
     "output_type": "display_data"
    }
   ],
   "source": [
    "plt.figure()\n",
    "for xe, ye in zip(range(1,len(cargo_iterations)+1), cargo_inertia[:]):\n",
    "    plt.scatter([xe] * len(ye), ye)"
   ]
  },
  {
   "cell_type": "markdown",
   "metadata": {},
   "source": [
    "We can see also two groups of solutions for each configuration, and shorter distances when we have more centroids (4) in the board. This couple of graphs help us in having a hint of the possible solutions K-means can offer, and an initial kick into visualization of the parameter space. "
   ]
  }
 ],
 "metadata": {
  "anaconda-cloud": {},
  "kernelspec": {
   "display_name": "Python 3",
   "language": "python",
   "name": "python3"
  },
  "language_info": {
   "codemirror_mode": {
    "name": "ipython",
    "version": 3
   },
   "file_extension": ".py",
   "mimetype": "text/x-python",
   "name": "python",
   "nbconvert_exporter": "python",
   "pygments_lexer": "ipython3",
   "version": "3.6.0"
  }
 },
 "nbformat": 4,
 "nbformat_minor": 1
}
