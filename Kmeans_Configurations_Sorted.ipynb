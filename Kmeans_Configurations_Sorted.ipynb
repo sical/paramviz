{
 "cells": [
  {
   "cell_type": "markdown",
   "metadata": {},
   "source": [
    "# Kmeans input configurations sorted by size"
   ]
  },
  {
   "cell_type": "markdown",
   "metadata": {},
   "source": [
    "In this example we will expand the grid exploration to all possible combinations within a dataset. For this we will define the boundaries of the grid partitions and also the number of centroids, depending on the number of datapoints we have in our dataset. Then, we order the series of configurations in ascending order by the grid size, helping us to interpret the output in a more rational way. \n",
    "\n",
    "As a reminder, we run a very simple set of configurations to explore the parameter space on three variables: the number of centers (K), the grid size -or partition- in the x-axis (Nx) and the grid size in the y-axis (Ny) where the centroids are allocated.  \n",
    "\n",
    "To this end, we load some basic libraries for plotting the output and also to run the algorithm based on python built-in modules: "
   ]
  },
  {
   "cell_type": "code",
   "execution_count": 1,
   "metadata": {
    "collapsed": true
   },
   "outputs": [],
   "source": [
    "%matplotlib inline\n",
    "import matplotlib.pyplot as plt\n",
    "import pandas as pd\n",
    "import numpy as np\n",
    "\n",
    "from KmeansTrace import KmeansTrace\n",
    "from DataGrid import DataGrid"
   ]
  },
  {
   "cell_type": "markdown",
   "metadata": {},
   "source": [
    "We define a function that runs the algorithm on a particular dataset. It also calculates basic diagnostics related to the number of iterations and the inertia (the sum of distances to the nearest cluster center) thanks to the built-in Kmeans algorithm routine. "
   ]
  },
  {
   "cell_type": "code",
   "execution_count": 2,
   "metadata": {
    "collapsed": true
   },
   "outputs": [],
   "source": [
    "def KmeansGrid(Data2D, K, grid):\n",
    "    \n",
    "    listeTraceLabels  = []\n",
    "    listeTraceCenters = []\n",
    "    listeTraceInertia = []\n",
    "    listeTraceNbIter  = []\n",
    "    \n",
    "    for c in grid.get_grille():\n",
    "\n",
    "        aKmeans  = KmeansTrace(Data2D, K, c, grid)\n",
    "        Labels, Centers, Inertia, NbIter = aKmeans.getAll()\n",
    "        listeTraceLabels.append(Labels)  \n",
    "        listeTraceCenters.append(Centers) \n",
    "        listeTraceInertia.append(Inertia) \n",
    "        listeTraceNbIter.append(NbIter) \n",
    "\n",
    "    return listeTraceLabels, listeTraceCenters, listeTraceInertia, listeTraceNbIter"
   ]
  },
  {
   "cell_type": "markdown",
   "metadata": {},
   "source": [
    "We then define a set of arrays to store all the output diagnostics and also another set of arrays to store the grid partitions and most important, the grid size. The grid size is related to the maximum number of centroids we can place, and in turn, the number of centroids is related to the number of datapoints. So based on this we define the boundaries over which the grid partitions span. With the use of pandas, we sort the grids by its size in ascending order. Based on that we run the K-means algorithm over the ensemble of configurations. "
   ]
  },
  {
   "cell_type": "code",
   "execution_count": 3,
   "metadata": {
    "collapsed": false
   },
   "outputs": [],
   "source": [
    "if __name__ == \"__main__\":\n",
    "\n",
    "    import time\n",
    "    start_time = time.time()\n",
    "\n",
    "    # Arrays to store the output of the K-means calculation\n",
    "    hgrams=[]\n",
    "    cargo_labels=[]\n",
    "    cargo_iterations=[]\n",
    "    cargo_inertia=[]\n",
    "    cargo_solutions=[]\n",
    "    cargo_config=[]\n",
    "    counter=1\n",
    "    \n",
    "    # Arrays to store all possible configurations of Dx, Dy, K\n",
    "    gridx=[]\n",
    "    gridy=[]\n",
    "    gridk=[]\n",
    "    gridsize=[]\n",
    "    \n",
    "    # Read the input data and count the datapoints to define the grid boundaries\n",
    "    filename = './data/UnevenlySizedBlobs.csv' \n",
    "    data_points = pd.read_csv(filename, sep='\\t', header=None)\n",
    "    datacount   = len(data_points)\n",
    "    \n",
    "    # Loops with boundaries depending on the number of points in the dataset. \n",
    "    for i in range(2,datacount):\n",
    "        dlim = int(datacount/i)\n",
    "        for j in range(1,dlim+1):\n",
    "            klim = (i*j)-1\n",
    "            for l in range(2,klim+1):\n",
    "\n",
    "                K = l\n",
    "                nx, ny = i,j\n",
    "                index = nx*ny\n",
    "                gridx.append(nx)\n",
    "                gridy.append(ny)\n",
    "                gridk.append(K)\n",
    "                gridsize.append(index)\n",
    "  \n",
    "    # Pandas to store and sort the values by its gridsize\n",
    "    configurations=pd.DataFrame({\"nx\":gridx[:],\"ny\":gridy[:],\"nk\":gridk[:],\"gridsize\":gridsize[:]})\n",
    "    config_sorted=configurations.sort_values(['gridsize'],ascending=True)\n",
    "\n",
    "    \n",
    "    # Number of configurations from the sorted gridsizes\n",
    "    number_of_config=3\n",
    "    for i in range (0,number_of_config):\n",
    "    \n",
    "                K = config_sorted.nk[i]\n",
    "                nx, ny = config_sorted.nx[i],config_sorted.ny[i]\n",
    "\n",
    "#                # Data reading\n",
    "#                #filename = './data/UnequalVar.csv'\n",
    "#                #filename = './data/Mixture2D.csv'              #----> nbreuses convergences avec K =3 (un peu moins avec K=2)\n",
    "                filename = './data/UnevenlySizedBlobs.csv'      #----> nbreuses convergences avec K =3 (un seule avec K =2)\n",
    "                #filename = './data/AnisotropBlob.csv'\n",
    "                df       = pd.read_csv(filename, sep='\\t', header=None)\n",
    "                Data2D   = df.values\n",
    "#            \n",
    "                # All about the digital grid for center init of kmeans\n",
    "                grid = DataGrid(Data2D, nx, ny, K)\n",
    "            \n",
    "                # Kmeans computation with center init on the grid\n",
    "                listeTraceLabels, listeTraceCenters, listeTraceInertia, listeTraceNbIter = KmeansGrid(Data2D, K, grid)\n",
    "                \n",
    "                hgrams.append(np.histogram(listeTraceNbIter, density=True, bins=np.max(listeTraceNbIter)))\n",
    "                \n",
    "                # Decrease the decimals for memory optimization\n",
    "                shortInertia=list(set(listeTraceInertia))\n",
    "                shorter=np.round(shortInertia,1)\n",
    "                \n",
    "                # Storage of the output diagnostics in arrays\n",
    "                cargo_iterations.append(listeTraceNbIter)\n",
    "                cargo_labels.append(listeTraceLabels)\n",
    "                cargo_inertia.append(shorter)\n",
    "                cargo_solutions.append(len(list(set(listeTraceInertia))))\n",
    "                cargo_config.append(str(l)+str(i)+str(j))\n",
    "                counter=counter+1"
   ]
  },
  {
   "cell_type": "markdown",
   "metadata": {},
   "source": [
    "Once the algorithm is run we can plot the grid size of each one of the configurations. First, we can plot the original size (in the y-axis) before sorting out the configurations (sorted as the loop runs in the x-axis): "
   ]
  },
  {
   "cell_type": "code",
   "execution_count": 4,
   "metadata": {
    "collapsed": false,
    "scrolled": true
   },
   "outputs": [
    {
     "data": {
      "text/plain": [
       "<matplotlib.text.Text at 0x114be6240>"
      ]
     },
     "execution_count": 4,
     "metadata": {},
     "output_type": "execute_result"
    },
    {
     "data": {
      "image/png": "[encoded data removed]",
      "text/plain": [
       "<matplotlib.figure.Figure at 0x113740898>"
      ]
     },
     "metadata": {},
     "output_type": "display_data"
    }
   ],
   "source": [
    "plt.figure()\n",
    "thex=range(0,len(gridsize))\n",
    "plt.plot(thex,configurations.gridsize[:], ls='none', marker='o', markersize=2, color=(0.75, 0.75, 0.75))\n",
    "plt.xlabel('Configurations', fontsize=10)\n",
    "plt.ylabel('Gridsize Nx x Ny', fontsize=10)"
   ]
  },
  {
   "cell_type": "markdown",
   "metadata": {},
   "source": [
    "The loop restarts the partition on one of the dimensions each time one of the loops ends, so we do not have any logical sequence on the distribution of the configurations. Once the sorting is done, we can rearrange the sequence of configurations following its size as follows: "
   ]
  },
  {
   "cell_type": "code",
   "execution_count": 5,
   "metadata": {
    "collapsed": false,
    "scrolled": false
   },
   "outputs": [
    {
     "data": {
      "text/plain": [
       "<matplotlib.text.Text at 0x114f5ba20>"
      ]
     },
     "execution_count": 5,
     "metadata": {},
     "output_type": "execute_result"
    },
    {
     "data": {
      "image/png": "[encoded data removed]",
      "text/plain": [
       "<matplotlib.figure.Figure at 0x113740400>"
      ]
     },
     "metadata": {},
     "output_type": "display_data"
    }
   ],
   "source": [
    "plt.figure()\n",
    "thex=range(0,len(gridsize))\n",
    "plt.plot(thex,config_sorted.gridsize[:], ls='none', marker='o', markersize=2, color=(0.75, 0.75, 0.75))\n",
    "plt.xlabel('Configurations', fontsize=10)\n",
    "plt.ylabel('Gridsize Nx x Ny', fontsize=10)"
   ]
  },
  {
   "cell_type": "markdown",
   "metadata": {},
   "source": [
    "Where the generated configurations follow an established particular order.  "
   ]
  }
 ],
 "metadata": {
  "anaconda-cloud": {},
  "kernelspec": {
   "display_name": "Python [conda env:python36]",
   "language": "python",
   "name": "conda-env-python36-py"
  },
  "language_info": {
   "codemirror_mode": {
    "name": "ipython",
    "version": 3
   },
   "file_extension": ".py",
   "mimetype": "text/x-python",
   "name": "python",
   "nbconvert_exporter": "python",
   "pygments_lexer": "ipython3",
   "version": "3.6.0"
  }
 },
 "nbformat": 4,
 "nbformat_minor": 1
}
